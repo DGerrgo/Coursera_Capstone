{
 "cells": [
  {
   "cell_type": "markdown",
   "id": "c23b8849-9e10-456b-849e-73f2ea256dd4",
   "metadata": {},
   "source": [
    "1. Write some markdown to explain that this notebook will be mainly used for the capstone project."
   ]
  },
  {
   "cell_type": "markdown",
   "id": "ef40e93c-dff4-435c-b2fc-5752255ba48e",
   "metadata": {},
   "source": [
    "This notebook will be mainly used for the capstone project."
   ]
  },
  {
   "cell_type": "markdown",
   "id": "15366b71-f766-4196-88d6-ac8f777a643a",
   "metadata": {},
   "source": [
    "2. Import the pandas library as pd."
   ]
  },
  {
   "cell_type": "code",
   "execution_count": 5,
   "id": "df9728f7-20e6-47f0-90c5-6e7c6a7d535d",
   "metadata": {},
   "outputs": [],
   "source": [
    "import pandas as pd"
   ]
  },
  {
   "cell_type": "markdown",
   "id": "dad56d5b-84f1-44a9-bae2-9a813800f72c",
   "metadata": {},
   "source": [
    "3. Import the Numpy library as np."
   ]
  },
  {
   "cell_type": "code",
   "execution_count": 6,
   "id": "0fe5cf70-0c2f-4bb7-97bb-ce836e7ac486",
   "metadata": {},
   "outputs": [],
   "source": [
    "import numpy as np"
   ]
  },
  {
   "cell_type": "markdown",
   "id": "a383274a-4c24-45b3-b78e-293495fe257a",
   "metadata": {},
   "source": [
    "4. Print the following the statement: Hello Capstone Project Course!"
   ]
  },
  {
   "cell_type": "code",
   "execution_count": 7,
   "id": "02dbdb40-3f82-4075-82a2-9f2b238f33fb",
   "metadata": {},
   "outputs": [
    {
     "name": "stdout",
     "output_type": "stream",
     "text": [
      "Hello Capstone Project Course!\n"
     ]
    }
   ],
   "source": [
    "print(\"Hello Capstone Project Course!\")"
   ]
  },
  {
   "cell_type": "code",
   "execution_count": null,
   "id": "c9f7ebed-17f5-4965-b34a-e4f3c57c048f",
   "metadata": {},
   "outputs": [],
   "source": []
  }
 ],
 "metadata": {
  "kernelspec": {
   "display_name": "Python",
   "language": "python",
   "name": "conda-env-python-py"
  },
  "language_info": {
   "codemirror_mode": {
    "name": "ipython",
    "version": 3
   },
   "file_extension": ".py",
   "mimetype": "text/x-python",
   "name": "python",
   "nbconvert_exporter": "python",
   "pygments_lexer": "ipython3",
   "version": "3.6.13"
  },
  "toc-showtags": true
 },
 "nbformat": 4,
 "nbformat_minor": 5
}
